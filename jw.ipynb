{
 "cells": [
  {
   "cell_type": "code",
   "execution_count": 1,
   "metadata": {},
   "outputs": [
    {
     "name": "stderr",
     "output_type": "stream",
     "text": [
      "\u001b[32m2024-09-10 02:59:06.061\u001b[0m | \u001b[1mINFO    \u001b[0m | \u001b[36malphafold3_pytorch.tensor_typing\u001b[0m:\u001b[36m<module>\u001b[0m:\u001b[36m72\u001b[0m - \u001b[1mType checking is disabled.\u001b[0m\n",
      "\u001b[32m2024-09-10 02:59:06.063\u001b[0m | \u001b[1mINFO    \u001b[0m | \u001b[36malphafold3_pytorch.tensor_typing\u001b[0m:\u001b[36m<module>\u001b[0m:\u001b[36m77\u001b[0m - \u001b[1mDebugging is disabled.\u001b[0m\n",
      "[02:59:17] UFFTYPER: Warning: hybridization set to SP3 for atom 0\n",
      "[02:59:17] UFFTYPER: Unrecognized charge state for atom: 0\n",
      "[02:59:17] UFFTYPER: Unrecognized atom type: Mn2+2 (0)\n",
      "[02:59:17] UFFTYPER: Unrecognized atom type: Fe2+2 (0)\n",
      "[02:59:17] UFFTYPER: Unrecognized atom type: Co3+3 (0)\n",
      "[02:59:17] UFFTYPER: Unrecognized atom type: Ni3+2 (0)\n",
      "[02:59:17] UFFTYPER: Unrecognized charge state for atom: 0\n",
      "[02:59:17] UFFTYPER: Unrecognized atom type: Zn+2 (0)\n",
      "[02:59:17] UFFTYPER: Unrecognized atom type: Ca+2 (0)\n"
     ]
    },
    {
     "name": "stdout",
     "output_type": "stream",
     "text": [
      "Loading CCD component SMILES strings from data/ccd_data/components_smiles.json.\n"
     ]
    },
    {
     "name": "stderr",
     "output_type": "stream",
     "text": [
      "/cpfs01/projects-HDD/cfff-6f3a36a0cd1e_HDD/public/protein/workspace/wangjun/conda_envs/af3/lib/python3.10/site-packages/rotary_embedding_torch/rotary_embedding_torch.py:35: FutureWarning: `torch.cuda.amp.autocast(args...)` is deprecated. Please use `torch.amp.autocast('cuda', args...)` instead.\n",
      "  @autocast(enabled = False)\n",
      "/cpfs01/projects-HDD/cfff-6f3a36a0cd1e_HDD/public/protein/workspace/wangjun/conda_envs/af3/lib/python3.10/site-packages/rotary_embedding_torch/rotary_embedding_torch.py:268: FutureWarning: `torch.cuda.amp.autocast(args...)` is deprecated. Please use `torch.amp.autocast('cuda', args...)` instead.\n",
      "  @autocast(enabled = False)\n",
      "/cpfs01/projects-HDD/cfff-6f3a36a0cd1e_HDD/public/protein/workspace/wangjun/conda_envs/af3/lib/python3.10/site-packages/local_attention/rotary.py:33: FutureWarning: `torch.cuda.amp.autocast(args...)` is deprecated. Please use `torch.amp.autocast('cuda', args...)` instead.\n",
      "  @autocast(enabled = False)\n",
      "/cpfs01/projects-HDD/cfff-6f3a36a0cd1e_HDD/public/protein/workspace/wangjun/conda_envs/af3/lib/python3.10/site-packages/local_attention/rotary.py:55: FutureWarning: `torch.cuda.amp.autocast(args...)` is deprecated. Please use `torch.amp.autocast('cuda', args...)` instead.\n",
      "  @autocast(enabled = False)\n",
      "/cpfs01/projects-HDD/cfff-6f3a36a0cd1e_HDD/public/protein/workspace/wangjun/conda_envs/af3/lib/python3.10/site-packages/colt5_attention/coor_descent.py:16: FutureWarning: `torch.cuda.amp.autocast(args...)` is deprecated. Please use `torch.amp.autocast('cuda', args...)` instead.\n",
      "  @autocast(enabled = False)\n",
      "/cpfs01/projects-HDD/cfff-6f3a36a0cd1e_HDD/public/protein/workspace/wangjun/conda_envs/af3/lib/python3.10/site-packages/colt5_attention/topk.py:9: FutureWarning: `torch.cuda.amp.autocast(args...)` is deprecated. Please use `torch.amp.autocast('cuda', args...)` instead.\n",
      "  @autocast(enabled = False)\n",
      "/cpfs01/projects-HDD/cfff-6f3a36a0cd1e_HDD/public/protein/workspace/wangjun/conda_envs/af3/lib/python3.10/site-packages/tqdm/auto.py:21: TqdmWarning: IProgress not found. Please update jupyter and ipywidgets. See https://ipywidgets.readthedocs.io/en/stable/user_install.html\n",
      "  from .autonotebook import tqdm as notebook_tqdm\n"
     ]
    }
   ],
   "source": [
    "\n",
    "from alphafold3_pytorch.trainer import Trainer\n",
    "from alphafold3_pytorch.alphafold3 import Alphafold3\n",
    "from alphafold3_pytorch.inputs import PDBDataset\n",
    "from alphafold3_pytorch.data.weighted_pdb_sampler import WeightedPDBSampler"
   ]
  },
  {
   "cell_type": "code",
   "execution_count": 9,
   "metadata": {},
   "outputs": [],
   "source": [
    "alphafold3 = Alphafold3(\n",
    "        dim_atom_inputs=10,\n",
    "        dim_atompair_inputs=5,\n",
    "        atoms_per_window=27,\n",
    "        dim_template_feats=108,\n",
    "        num_dist_bins=None,\n",
    "        confidence_head_kwargs=dict(pairformer_depth=1),\n",
    "        template_embedder_kwargs=dict(pairformer_stack_depth=1),\n",
    "        msa_module_kwargs=dict(depth=1),\n",
    "        pairformer_stack=dict(depth=2),\n",
    "        diffusion_module_kwargs=dict(\n",
    "            atom_encoder_depth=1,\n",
    "            token_transformer_depth=1,\n",
    "            atom_decoder_depth=1,\n",
    "        ),\n",
    "        \n",
    "        # jwang's debug parameters\n",
    "        # dim_token=128,\n",
    "        \n",
    "    )"
   ]
  },
  {
   "cell_type": "code",
   "execution_count": 10,
   "metadata": {},
   "outputs": [
    {
     "name": "stdout",
     "output_type": "stream",
     "text": [
      "31183688\n"
     ]
    }
   ],
   "source": [
    "\n",
    "num_parameters = sum(p.numel() for p in alphafold3.parameters())\n",
    "print(num_parameters)"
   ]
  },
  {
   "cell_type": "code",
   "execution_count": 13,
   "metadata": {},
   "outputs": [
    {
     "name": "stdout",
     "output_type": "stream",
     "text": [
      "{'dim_atom_inputs': 10, 'dim_template_feats': 108, 'dim_template_model': 64, 'atoms_per_window': 27, 'dim_atom': 128, 'dim_atompair_inputs': 5, 'dim_atompair': 16, 'dim_input_embedder_token': 384, 'dim_single': 384, 'dim_pairwise': 128, 'dim_token': 768, 'ignore_index': -1, 'num_dist_bins': None, 'num_plddt_bins': 50, 'num_pde_bins': 64, 'num_pae_bins': 64, 'sigma_data': 16, 'diffusion_num_augmentations': 4, 'loss_confidence_weight': 0.0001, 'loss_distogram_weight': 0.01, 'loss_diffusion_weight': 4.0}\n",
      "487451062\n"
     ]
    }
   ],
   "source": [
    "from omegaconf import OmegaConf\n",
    "conf = OmegaConf.load('tests/configs/alphafold3.yaml')\n",
    "print(conf)\n",
    "\n",
    "alphafold3 = Alphafold3(\n",
    "    **conf\n",
    ")\n",
    "num_parameters = sum(p.numel() for p in alphafold3.parameters())\n",
    "print(num_parameters)"
   ]
  },
  {
   "cell_type": "code",
   "execution_count": 4,
   "metadata": {},
   "outputs": [
    {
     "name": "stdout",
     "output_type": "stream",
     "text": [
      "487451062\n"
     ]
    }
   ],
   "source": []
  },
  {
   "cell_type": "code",
   "execution_count": 14,
   "metadata": {},
   "outputs": [
    {
     "name": "stdout",
     "output_type": "stream",
     "text": [
      "Tue Sep 10 03:08:25 2024       \n",
      "+-----------------------------------------------------------------------------+\n",
      "| NVIDIA-SMI 470.199.02   Driver Version: 470.199.02   CUDA Version: 12.1     |\n",
      "|-------------------------------+----------------------+----------------------+\n",
      "| GPU  Name        Persistence-M| Bus-Id        Disp.A | Volatile Uncorr. ECC |\n",
      "| Fan  Temp  Perf  Pwr:Usage/Cap|         Memory-Usage | GPU-Util  Compute M. |\n",
      "|                               |                      |               MIG M. |\n",
      "|===============================+======================+======================|\n",
      "|   0  NVIDIA A100-SXM...  Off  | 00000000:19:00.0 Off |                    0 |\n",
      "| N/A   34C    P0    73W / 400W |    555MiB / 81251MiB |      0%      Default |\n",
      "|                               |                      |             Disabled |\n",
      "+-------------------------------+----------------------+----------------------+\n",
      "|   1  NVIDIA A100-SXM...  Off  | 00000000:48:00.0 Off |                    0 |\n",
      "| N/A   34C    P0    60W / 400W |      3MiB / 81251MiB |      0%      Default |\n",
      "|                               |                      |             Disabled |\n",
      "+-------------------------------+----------------------+----------------------+\n",
      "                                                                               \n",
      "+-----------------------------------------------------------------------------+\n",
      "| Processes:                                                                  |\n",
      "|  GPU   GI   CI        PID   Type   Process name                  GPU Memory |\n",
      "|        ID   ID                                                   Usage      |\n",
      "|=============================================================================|\n",
      "+-----------------------------------------------------------------------------+\n"
     ]
    }
   ],
   "source": [
    "!nvidia-smi"
   ]
  },
  {
   "cell_type": "code",
   "execution_count": 15,
   "metadata": {},
   "outputs": [
    {
     "name": "stdout",
     "output_type": "stream",
     "text": [
      "Tue Sep 10 03:08:30 2024       \n",
      "+-----------------------------------------------------------------------------+\n",
      "| NVIDIA-SMI 470.199.02   Driver Version: 470.199.02   CUDA Version: 12.1     |\n",
      "|-------------------------------+----------------------+----------------------+\n",
      "| GPU  Name        Persistence-M| Bus-Id        Disp.A | Volatile Uncorr. ECC |\n",
      "| Fan  Temp  Perf  Pwr:Usage/Cap|         Memory-Usage | GPU-Util  Compute M. |\n",
      "|                               |                      |               MIG M. |\n",
      "|===============================+======================+======================|\n",
      "|   0  NVIDIA A100-SXM...  Off  | 00000000:19:00.0 Off |                    0 |\n",
      "| N/A   34C    P0    73W / 400W |   2379MiB / 81251MiB |      0%      Default |\n",
      "|                               |                      |             Disabled |\n",
      "+-------------------------------+----------------------+----------------------+\n",
      "|   1  NVIDIA A100-SXM...  Off  | 00000000:48:00.0 Off |                    0 |\n",
      "| N/A   34C    P0    60W / 400W |      3MiB / 81251MiB |      0%      Default |\n",
      "|                               |                      |             Disabled |\n",
      "+-------------------------------+----------------------+----------------------+\n",
      "                                                                               \n",
      "+-----------------------------------------------------------------------------+\n",
      "| Processes:                                                                  |\n",
      "|  GPU   GI   CI        PID   Type   Process name                  GPU Memory |\n",
      "|        ID   ID                                                   Usage      |\n",
      "|=============================================================================|\n",
      "+-----------------------------------------------------------------------------+\n"
     ]
    }
   ],
   "source": [
    "alphafold3 = alphafold3.to('cuda')\n",
    "!nvidia-smi"
   ]
  }
 ],
 "metadata": {
  "kernelspec": {
   "display_name": "Python 3",
   "language": "python",
   "name": "python3"
  },
  "language_info": {
   "codemirror_mode": {
    "name": "ipython",
    "version": 3
   },
   "file_extension": ".py",
   "mimetype": "text/x-python",
   "name": "python",
   "nbconvert_exporter": "python",
   "pygments_lexer": "ipython3",
   "version": "3.10.14"
  }
 },
 "nbformat": 4,
 "nbformat_minor": 2
}
