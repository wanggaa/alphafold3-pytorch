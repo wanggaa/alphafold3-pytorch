{
 "cells": [
  {
   "cell_type": "markdown",
   "metadata": {},
   "source": [
    "## 数据流程要求：\n",
    "\n",
    "输入文件：\n",
    "\n",
    "输出原子级别坐标：\n",
    "输出其它feature等："
   ]
  },
  {
   "cell_type": "markdown",
   "metadata": {},
   "source": [
    "## LUCIDRAIN代码，输入流程"
   ]
  },
  {
   "cell_type": "code",
   "execution_count": 8,
   "metadata": {},
   "outputs": [],
   "source": [
    "fail_data_dir = 'fail_cases'\n",
    "\n",
    "import os\n",
    "import sys\n",
    "from Bio.PDB.MMCIFParser import MMCIFParser\n",
    "from Bio.PDB.MMCIFParser import FastMMCIFParser\n",
    "parser = FastMMCIFParser()"
   ]
  },
  {
   "cell_type": "code",
   "execution_count": 4,
   "metadata": {},
   "outputs": [
    {
     "name": "stderr",
     "output_type": "stream",
     "text": [
      "/cpfs01/projects-HDD/cfff-6f3a36a0cd1e_HDD/public/protein/workspace/wangjun/conda_envs/af3/lib/python3.10/site-packages/Bio/PDB/Atom.py:241: PDBConstructionWarning: Used element 'MG' for Atom (name=MG) with given element 'M'\n",
      "  warnings.warn(msg, PDBConstructionWarning)\n"
     ]
    }
   ],
   "source": [
    "for file_name in os.listdir(fail_data_dir):\n",
    "    if not file_name.endswith('cif'):\n",
    "        continue\n",
    "    path = os.path.join(fail_data_dir,file_name)\n",
    "    structure = parser.get_structure(os.path.basename(file_name),path)\n",
    "    break"
   ]
  },
  {
   "cell_type": "code",
   "execution_count": 11,
   "metadata": {},
   "outputs": [
    {
     "name": "stdout",
     "output_type": "stream",
     "text": [
      "<Structure id=error>\n"
     ]
    }
   ],
   "source": [
    "path = 'fail_cases/1qyl-assembly1.cif'\n",
    "structure = parser.get_structure('error',path)\n",
    "print(structure)\n",
    "print('test')"
   ]
  }
 ],
 "metadata": {
  "kernelspec": {
   "display_name": "Python 3",
   "language": "python",
   "name": "python3"
  },
  "language_info": {
   "codemirror_mode": {
    "name": "ipython",
    "version": 3
   },
   "file_extension": ".py",
   "mimetype": "text/x-python",
   "name": "python",
   "nbconvert_exporter": "python",
   "pygments_lexer": "ipython3",
   "version": "3.10.14"
  }
 },
 "nbformat": 4,
 "nbformat_minor": 2
}
